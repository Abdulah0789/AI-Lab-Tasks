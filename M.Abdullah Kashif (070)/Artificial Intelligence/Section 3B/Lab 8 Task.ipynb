{
 "cells": [
  {
   "cell_type": "code",
   "execution_count": 3,
   "metadata": {},
   "outputs": [
    {
     "name": "stdout",
     "output_type": "stream",
     "text": [
      "The Optimal Value is:5\n"
     ]
    }
   ],
   "source": [
    "#Min Max Algorithm\n",
    "import math\n",
    "\n",
    "def minimax(curdepth,nodeindex,maxTurn,score,targetdepth):\n",
    "    if(curdepth == targetdepth):\n",
    "        return score[nodeindex]\n",
    "    if(maxTurn):\n",
    "        return max(minimax(curdepth + 1, nodeindex * 2, False, score, targetdepth),\n",
    "                   minimax(curdepth + 1, nodeindex * 2 - 1, False, score, targetdepth))\n",
    "    else:\n",
    "        return min(minimax(curdepth + 1, nodeindex * 2, True, score, targetdepth),\n",
    "                   minimax(curdepth + 1, nodeindex * 2 - 1, True, score, targetdepth))\n",
    "    \n",
    "score = [3,5,2,9,3,5,2,9]\n",
    "treedepth = math.log(len(score),2)\n",
    "print(\"The Optimal Value is:\",end = \"\")\n",
    "print(minimax(0,0,True,score,treedepth))\n"
   ]
  }
 ],
 "metadata": {
  "kernelspec": {
   "display_name": "Python 3",
   "language": "python",
   "name": "python3"
  },
  "language_info": {
   "codemirror_mode": {
    "name": "ipython",
    "version": 3
   },
   "file_extension": ".py",
   "mimetype": "text/x-python",
   "name": "python",
   "nbconvert_exporter": "python",
   "pygments_lexer": "ipython3",
   "version": "3.12.5"
  }
 },
 "nbformat": 4,
 "nbformat_minor": 2
}
