{
 "cells": [
  {
   "cell_type": "markdown",
   "metadata": {},
   "source": [
    "Lab 3 Task"
   ]
  },
  {
   "cell_type": "code",
   "execution_count": 2,
   "metadata": {},
   "outputs": [
    {
     "name": "stdout",
     "output_type": "stream",
     "text": [
      "Lounge: Temp = 19°C. Action: Activate heating. Logged Data: {'Lounge': 19}.\n",
      "Master Bedroom: Temp = 23°C. Action: Deactivate heating. Logged Data: {'Lounge': 19, 'Master Bedroom': 23}.\n",
      "Kitchen Area: Temp = 21°C. Action: Activate heating. Logged Data: {'Lounge': 19, 'Master Bedroom': 23, 'Kitchen Area': 21}.\n",
      "Washroom: Temp = 25°C. Action: Deactivate heating. Logged Data: {'Lounge': 19, 'Master Bedroom': 23, 'Kitchen Area': 21, 'Washroom': 25}.\n"
     ]
    }
   ],
   "source": [
    "class Agent:\n",
    "    def __init__(self, target):\n",
    "        self.target = target\n",
    "        self.room = {}\n",
    "    \n",
    "    def record_temp(self, room_name, current):\n",
    "\n",
    "        self.room[room_name] = current\n",
    "    \n",
    "    def decide_action(self, room_name, current_temp):\n",
    "\n",
    "        self.record_temp(room_name, current_temp)\n",
    "        \n",
    "        if current_temp < self.target:\n",
    "            decision = \"Activate heating\"\n",
    "        else:\n",
    "            decision = \"Deactivate heating\"\n",
    "        \n",
    "        return decision\n",
    "\n",
    "house_rooms = {\n",
    "    \"Lounge\": 19,\n",
    "    \"Master Bedroom\": 23,\n",
    "    \"Kitchen Area\": 21,\n",
    "    \"Washroom\": 25\n",
    "}\n",
    "\n",
    "target_temp = 22\n",
    "obj1 = Agent(target_temp)\n",
    "\n",
    "for room, temp in house_rooms.items():\n",
    "    action = obj1.decide_action(room, temp)\n",
    "    print(f\"{room}: Temp = {temp}°C. Action: {action}. Logged Data: {obj1.room}.\")"
   ]
  },
  {
   "cell_type": "code",
   "execution_count": null,
   "metadata": {},
   "outputs": [],
   "source": []
  }
 ],
 "metadata": {
  "kernelspec": {
   "display_name": "Python 3",
   "language": "python",
   "name": "python3"
  },
  "language_info": {
   "codemirror_mode": {
    "name": "ipython",
    "version": 3
   },
   "file_extension": ".py",
   "mimetype": "text/x-python",
   "name": "python",
   "nbconvert_exporter": "python",
   "pygments_lexer": "ipython3",
   "version": "3.12.5"
  }
 },
 "nbformat": 4,
 "nbformat_minor": 2
}
