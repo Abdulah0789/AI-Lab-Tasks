{
 "cells": [
  {
   "cell_type": "markdown",
   "metadata": {},
   "source": [
    "Task 1\n",
    "Card Number Validation"
   ]
  },
  {
   "cell_type": "code",
   "execution_count": 5,
   "metadata": {},
   "outputs": [
    {
     "name": "stdout",
     "output_type": "stream",
     "text": [
      "Invalid card number.\n"
     ]
    }
   ],
   "source": [
    "def luhnalgorithm(cardnum):\n",
    "    last_digit=int(cardnum[-1])\n",
    "    cardnum=cardnum[:-1]\n",
    "    reverse_digits=[int(digit) for digit in cardnum[::-1]]\n",
    "\n",
    "    for i in range(len(reverse_digits)):\n",
    "        if i%2 == 0:\n",
    "            reverse_digits[i]*=2\n",
    "    for i in range(len(reverse_digits)):\n",
    "        if reverse_digits[i]>9:\n",
    "            reverse_digits[i]-=9\n",
    "    tot_sum=sum(reverse_digits)+last_digit\n",
    "    if tot_sum%10 == 0:\n",
    "        return True\n",
    "    else:\n",
    "        return False\n",
    "    \n",
    "cardnum=input(\"Enter your Card Number:\")\n",
    "if luhnalgorithm(cardnum):\n",
    "    print(\"VALID CARD\")\n",
    "else:\n",
    "    print(\"INVALID CARD\")\n",
    "\n"
   ]
  },
  {
   "cell_type": "markdown",
   "metadata": {},
   "source": [
    "Task 2\n",
    "Palindrome Checker"
   ]
  },
  {
   "cell_type": "code",
   "execution_count": 12,
   "metadata": {},
   "outputs": [
    {
     "name": "stdout",
     "output_type": "stream",
     "text": [
      "palindrome\n"
     ]
    }
   ],
   "source": [
    "a=input(\"Enter Number:\")\n",
    "b=str(a)\n",
    "r=''\n",
    "for i in b:\n",
    "    x=b[-1]\n",
    "    r=r+x\n",
    "    b=b[:-1]\n",
    "if r==str(a):\n",
    "    print('palindrome') \n",
    "else:\n",
    "    print('not palindrome')"
   ]
  },
  {
   "cell_type": "markdown",
   "metadata": {},
   "source": [
    "Task 3\n",
    "Punctuation Removal"
   ]
  },
  {
   "cell_type": "code",
   "execution_count": 18,
   "metadata": {},
   "outputs": [
    {
     "data": {
      "text/plain": [
       "'i am Abdullah'"
      ]
     },
     "execution_count": 18,
     "metadata": {},
     "output_type": "execute_result"
    }
   ],
   "source": [
    "def remove_punc(userinput):\n",
    "    punctuation='''.,?!:;'\"()[]}{-—.../*&@_~^|'''\n",
    "    string=''\n",
    "    for i in userinput:\n",
    "        if i in punctuation:\n",
    "            continue\n",
    "        else:\n",
    "            string+=i\n",
    "    return string\n",
    "userinput=input(\"Enter String:\")\n",
    "remove_punc(userinput)"
   ]
  },
  {
   "cell_type": "markdown",
   "metadata": {},
   "source": [
    "Task 4"
   ]
  },
  {
   "cell_type": "code",
   "execution_count": 12,
   "metadata": {},
   "outputs": [
    {
     "name": "stdout",
     "output_type": "stream",
     "text": [
      "Abdullah I am \n"
     ]
    }
   ],
   "source": [
    "def sort(input='I am Abdullah'):\n",
    "    val=input.split(' ')\n",
    "    ascii=[]\n",
    "    sort_txt=''\n",
    "    for i in val:\n",
    "        ascii.append([ord(i[0]),i])\n",
    "\n",
    "    for i in range(len(ascii)-1):\n",
    "        lower_ascii,val=ascii[i]\n",
    "    \n",
    "        for j in range(1+i,len(ascii)):\n",
    "            if ascii[i][0]>ascii[j][0]: \n",
    "                lower_ascii,val=ascii[j] \n",
    "                ascii[j]=ascii[i] \n",
    "                ascii[i]=lower_ascii,val\n",
    "    \n",
    "    for i in ascii:\n",
    "        _,txt=i\n",
    "        sort_txt=sort_txt + txt+' '\n",
    "\n",
    "    return sort_txt\n",
    "        \n",
    "print(sort())"
   ]
  },
  {
   "cell_type": "code",
   "execution_count": null,
   "metadata": {},
   "outputs": [],
   "source": []
  }
 ],
 "metadata": {
  "kernelspec": {
   "display_name": "Python 3",
   "language": "python",
   "name": "python3"
  },
  "language_info": {
   "codemirror_mode": {
    "name": "ipython",
    "version": 3
   },
   "file_extension": ".py",
   "mimetype": "text/x-python",
   "name": "python",
   "nbconvert_exporter": "python",
   "pygments_lexer": "ipython3",
   "version": "3.12.5"
  }
 },
 "nbformat": 4,
 "nbformat_minor": 2
}
