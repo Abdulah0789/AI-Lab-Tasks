{
 "cells": [
  {
   "cell_type": "code",
   "execution_count": 1,
   "metadata": {},
   "outputs": [
    {
     "name": "stdout",
     "output_type": "stream",
     "text": [
      "a c f "
     ]
    }
   ],
   "source": [
    "#Lab 5 Task # 1\n",
    "class Node:\n",
    "    def __init__(self, record):\n",
    "        self.record = record\n",
    "        self.child = []  \n",
    "\n",
    "    def add_child(self, child_node):\n",
    "        self.child.append(child_node)  \n",
    "\n",
    "\n",
    "def dfs(st_node, goal):\n",
    "    stack = [st_node]  \n",
    "    visited = []  \n",
    "\n",
    "    while stack:\n",
    "        curr_node = stack.pop()\n",
    "        \n",
    "        if curr_node.record not in visited:\n",
    "            visited.append(curr_node.record) \n",
    "            \n",
    "            print(curr_node.record, end=\" \")  \n",
    "            \n",
    "            if curr_node.record == goal:  \n",
    "                return\n",
    "\n",
    "      \n",
    "            for child in curr_node.child:\n",
    "                stack.append(child)\n",
    "\n",
    "\n",
    "Starting_root = Node(\"a\")\n",
    "obj = Node(\"b\")\n",
    "obj1 = Node(\"c\")\n",
    "obj2 = Node(\"d\")\n",
    "obj3 = Node(\"e\")\n",
    "obj4 = Node(\"f\")\n",
    "\n",
    "\n",
    "Starting_root.add_child(obj)\n",
    "Starting_root.add_child(obj1)\n",
    "obj.add_child(obj2)\n",
    "\n",
    "obj1.add_child(obj3)\n",
    "obj1.add_child(obj4) \n",
    "\n",
    "dfs(Starting_root, 'f')\n"
   ]
  },
  {
   "cell_type": "code",
   "execution_count": 2,
   "metadata": {},
   "outputs": [
    {
     "name": "stdout",
     "output_type": "stream",
     "text": [
      "Preorder Traversal:\n",
      "Root > Left_Child_1 > Left_Child_1.1 > Right_Child_1.2 > Right_Child_1 > Left_Child_2.1 > Right_Child_2.2 > \n",
      "Inorder Traversal:\n",
      "Left_Child_1.1 > Left_Child_1 > Right_Child_1.2 > Root > Left_Child_2.1 > Right_Child_1 > Right_Child_2.2 > \n",
      "Postorder Traversal:\n",
      "Left_Child_1.1 > Right_Child_1.2 > Left_Child_1 > Left_Child_2.1 > Right_Child_2.2 > Right_Child_1 > Root > "
     ]
    }
   ],
   "source": [
    "#Lab 5 Task # 2:\n",
    "class Node:\n",
    "    def __init__(self, value):\n",
    "        self.value = value\n",
    "        self.left_child = None\n",
    "        self.right_child = None\n",
    "\n",
    "class BinTree:\n",
    "    def __init__(self, root_val):\n",
    "        self.root = Node(root_val)\n",
    "\n",
    "    def insert_left(self, curr_node, value):\n",
    "        if curr_node.left_child is None:\n",
    "            curr_node.left_child = Node(value)\n",
    "        else:\n",
    "            print(f\"Left child already exists for {curr_node.value}\")\n",
    "\n",
    "    def insert_right(self, current_node, value):\n",
    "        if current_node.right_child is None:\n",
    "            current_node.right_child = Node(value)\n",
    "        else:\n",
    "            print(f\"Right child already exists for {current_node.value}\")\n",
    "\n",
    "    def preorder(self, node):\n",
    "        if node:\n",
    "            print(node.value, end=\" > \")\n",
    "            self.preorder(node.left_child)    \n",
    "            self.preorder(node.right_child)   \n",
    "\n",
    "    def inorder(self, node):\n",
    "        if node:\n",
    "            self.inorder(node.left_child)   \n",
    "            print(node.value, end=\" > \")   \n",
    "            self.inorder(node.right_child)    \n",
    "\n",
    "    def postorder(self, node):\n",
    "        if node:\n",
    "            self.postorder(node.left_child)   \n",
    "            self.postorder(node.right_child)  \n",
    "            print(node.value, end=\" > \")\n",
    "\n",
    "obj = BinTree(\"Root\")\n",
    "obj.insert_left(obj.root, \"Left_Child_1\")\n",
    "obj.insert_right(obj.root, \"Right_Child_1\")\n",
    "obj.insert_left(obj.root.left_child, \"Left_Child_1.1\")\n",
    "obj.insert_right(obj.root.left_child, \"Right_Child_1.2\")\n",
    "obj.insert_left(obj.root.right_child, \"Left_Child_2.1\")\n",
    "obj.insert_right(obj.root.right_child, \"Right_Child_2.2\")\n",
    "\n",
    "print(\"Preorder Traversal:\")\n",
    "obj.preorder(obj.root)\n",
    "print(\"\\nInorder Traversal:\")\n",
    "obj.inorder(obj.root)\n",
    "print(\"\\nPostorder Traversal:\")\n",
    "obj.postorder(obj.root)\n"
   ]
  }
 ],
 "metadata": {
  "kernelspec": {
   "display_name": "Python 3",
   "language": "python",
   "name": "python3"
  },
  "language_info": {
   "codemirror_mode": {
    "name": "ipython",
    "version": 3
   },
   "file_extension": ".py",
   "mimetype": "text/x-python",
   "name": "python",
   "nbconvert_exporter": "python",
   "pygments_lexer": "ipython3",
   "version": "3.12.5"
  }
 },
 "nbformat": 4,
 "nbformat_minor": 2
}
