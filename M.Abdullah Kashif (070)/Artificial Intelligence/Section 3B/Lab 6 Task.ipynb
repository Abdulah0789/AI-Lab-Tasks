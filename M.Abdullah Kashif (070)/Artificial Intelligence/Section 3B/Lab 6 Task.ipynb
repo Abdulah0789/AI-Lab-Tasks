{
 "cells": [
  {
   "cell_type": "code",
   "execution_count": 1,
   "metadata": {},
   "outputs": [
    {
     "name": "stdout",
     "output_type": "stream",
     "text": [
      "Visited: a -> Visited: b -> Visited: c -> Visited: d -> Visited: e -> Visited: f -> Visited: g -> \n",
      "All visited nodes: ['a', 'b', 'c', 'd', 'e', 'f', 'g']\n"
     ]
    }
   ],
   "source": [
    "#Lab 6 Task # 1\n",
    "tree = {\n",
    "    \"a\": [\"b\", \"c\"],\n",
    "    \"b\": [\"d\", \"e\"],\n",
    "    \"c\": [\"f\", \"g\"],\n",
    "    \"d\": [],\n",
    "    \"e\": [],\n",
    "    \"f\": [],\n",
    "    \"g\": []\n",
    "}\n",
    "\n",
    "visit_nodes = []\n",
    "def bfs_traversal(start_node):\n",
    "    curr_lvl = [start_node]\n",
    "\n",
    "    while curr_lvl:\n",
    "        next_level = []\n",
    "        for node in curr_lvl:\n",
    "            if node not in visit_nodes:\n",
    "                visit_nodes.append(node)\n",
    "                print(f\"Visited: {node}\", end=\" -> \")\n",
    "            next_level.extend(tree[node])\n",
    "\n",
    "        curr_lvl = next_level\n",
    "\n",
    "bfs_traversal('a')\n",
    "print(\"\\nAll visited nodes:\", visit_nodes)\n"
   ]
  },
  {
   "cell_type": "code",
   "execution_count": 3,
   "metadata": {},
   "outputs": [
    {
     "name": "stdout",
     "output_type": "stream",
     "text": [
      "[a] > [b] > [c] > [d] > [e] > [f] > [g] > "
     ]
    }
   ],
   "source": [
    "#Lab 6 Task # 2\n",
    "class Node:\n",
    "    def __init__(self, val):\n",
    "        self.val = val \n",
    "        self.child = []  \n",
    "\n",
    "    def add_child(self, child_node):\n",
    "        self.child.append(child_node)  \n",
    "\n",
    "def bfs(start_node):\n",
    "    visit = []  \n",
    "    node_queue = [start_node]\n",
    "\n",
    "    while node_queue:\n",
    "        curr_node = node_queue.pop(0)  \n",
    "\n",
    "        if curr_node.val not in visit:\n",
    "            visit.append(curr_node.val)\n",
    "            print(f\"[{curr_node.val}]\", end=\" > \")   \n",
    "        \n",
    "            for i in curr_node.child:\n",
    "                node_queue.append(i)\n",
    "\n",
    "root = Node(\"a\")\n",
    "b = Node(\"b\")\n",
    "c = Node(\"c\")\n",
    "d = Node(\"d\")\n",
    "e = Node(\"e\")\n",
    "f = Node(\"f\")\n",
    "g = Node(\"g\")\n",
    "root.add_child(b)\n",
    "root.add_child(c)\n",
    "b.add_child(d)\n",
    "b.add_child(e)\n",
    "c.add_child(f)\n",
    "c.add_child(g)\n",
    "bfs(root)\n"
   ]
  }
 ],
 "metadata": {
  "kernelspec": {
   "display_name": "Python 3",
   "language": "python",
   "name": "python3"
  },
  "language_info": {
   "codemirror_mode": {
    "name": "ipython",
    "version": 3
   },
   "file_extension": ".py",
   "mimetype": "text/x-python",
   "name": "python",
   "nbconvert_exporter": "python",
   "pygments_lexer": "ipython3",
   "version": "3.12.5"
  }
 },
 "nbformat": 4,
 "nbformat_minor": 2
}
