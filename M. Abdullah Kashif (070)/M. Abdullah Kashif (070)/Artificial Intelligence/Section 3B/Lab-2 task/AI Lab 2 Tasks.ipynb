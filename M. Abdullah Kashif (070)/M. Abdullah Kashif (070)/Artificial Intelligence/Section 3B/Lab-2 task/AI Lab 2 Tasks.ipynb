{
 "cells": [
  {
   "cell_type": "markdown",
   "metadata": {},
   "source": [
    "Mini Project 1:\n",
    "FizzBuzz Game"
   ]
  },
  {
   "cell_type": "code",
   "execution_count": 6,
   "metadata": {},
   "outputs": [
    {
     "name": "stdout",
     "output_type": "stream",
     "text": [
      "Lets Start Game!\n",
      "This is your previous number 9\n",
      "Wrong! Correct Answer: 'Fizz'.\n",
      "Game Over! Your Score: 0\n"
     ]
    }
   ],
   "source": [
    "#Mini Project 1:\n",
    "\n",
    "import random\n",
    "\n",
    "def fizzbuzz():\n",
    "    print(\"Lets Start Game!\")\n",
    "    score = 0\n",
    "    no = 0\n",
    "    while True:\n",
    "        num = random.randint(1, 10)\n",
    "        no = no + num\n",
    "        correct_ans = fizz_buzzagame(no)\n",
    "        player_ans = input(f'What is your answer for {num}?')\n",
    "        print(f'This is your previous number {no}')\n",
    "\n",
    "        if player_ans.strip().lower() == correct_ans.lower():\n",
    "            print(\"Correct!\")\n",
    "            score += 1\n",
    "        else:\n",
    "            print(f\"Wrong! Correct Answer: '{correct_ans}'.\")\n",
    "            break\n",
    "    print(f\"Game Over! Your Score: {score}\")\n",
    "\n",
    "def fizz_buzzagame(no):\n",
    "    if no % 3 == 0 and no % 5 == 0:\n",
    "        return \"Fizz Buzz\"\n",
    "    elif no % 3 == 0:\n",
    "        return \"Fizz\"\n",
    "    elif no % 5 == 0:\n",
    "        return \"Buzz\"\n",
    "    else:\n",
    "        return str(no)\n",
    "    \n",
    "fizzbuzz()\n",
    "\n"
   ]
  },
  {
   "cell_type": "markdown",
   "metadata": {},
   "source": [
    "Mini Project 2:\n",
    "Movies List Budget Calculation"
   ]
  },
  {
   "cell_type": "code",
   "execution_count": 7,
   "metadata": {},
   "outputs": [
    {
     "name": "stdout",
     "output_type": "stream",
     "text": [
      "Average Budget: 190500000.0\n",
      "Pirates of the Caribbean: On Stranger Tides has higher budget and 188500000 is higher than average.\n",
      "Avengers: Age of Ultron has higher budget and 174500000 is higher than average.\n",
      "Avengers: Endgame has higher budget and 165500000 is higher than average.\n",
      "Incredibles 2 has higher budget and 9500000 is higher than average.\n"
     ]
    }
   ],
   "source": [
    "#Mini Project 2:\n",
    "movies = [\n",
    "    (\"Eternal Sunshine of the Spotless Mind\", 20000000),\n",
    "    (\"Memento\", 9000000),\n",
    "    (\"Requiem for a Dream\", 4500000),\n",
    "    (\"Pirates of the Caribbean: On Stranger Tides\", 379000000),\n",
    "    (\"Avengers: Age of Ultron\", 365000000),\n",
    "    (\"Avengers: Endgame\", 356000000),\n",
    "    (\"Incredibles 2\", 200000000)\n",
    "]\n",
    "\n",
    "tot_budget = 0 \n",
    "for _,budget in movies:\n",
    "    tot_budget += budget \n",
    "\n",
    "avg_budget=tot_budget/len(movies)\n",
    "print(f'Average Budget: {avg_budget}')\n",
    "\n",
    "for movie,budget in movies:\n",
    "    if budget>avg_budget:\n",
    "        print(f'{movie} has higher budget and {(int(budget - avg_budget))} is higher than average.')"
   ]
  },
  {
   "cell_type": "code",
   "execution_count": null,
   "metadata": {},
   "outputs": [],
   "source": []
  }
 ],
 "metadata": {
  "kernelspec": {
   "display_name": "Python 3",
   "language": "python",
   "name": "python3"
  },
  "language_info": {
   "codemirror_mode": {
    "name": "ipython",
    "version": 3
   },
   "file_extension": ".py",
   "mimetype": "text/x-python",
   "name": "python",
   "nbconvert_exporter": "python",
   "pygments_lexer": "ipython3",
   "version": "3.12.5"
  }
 },
 "nbformat": 4,
 "nbformat_minor": 2
}
